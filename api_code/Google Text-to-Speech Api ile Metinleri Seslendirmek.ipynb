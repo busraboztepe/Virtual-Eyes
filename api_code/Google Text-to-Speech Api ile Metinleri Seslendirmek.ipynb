{
 "cells": [
  {
   "cell_type": "markdown",
   "metadata": {},
   "source": [
    "# Google Text-to-Speech Api ile Metinleri Seslendirmek"
   ]
  },
  {
   "cell_type": "markdown",
   "metadata": {},
   "source": [
    "Gerekli Yüklemeler:\n",
    "    \n",
    "pip install --upgrade google-cloud-texttospeech"
   ]
  },
  {
   "cell_type": "code",
   "execution_count": 6,
   "metadata": {},
   "outputs": [],
   "source": [
    "import os\n",
    "os.environ[\"GOOGLE_APPLICATION_CREDENTIALS\"] = \"apikey.json\"\n",
    "\n",
    "from google.cloud import texttospeech"
   ]
  },
  {
   "cell_type": "code",
   "execution_count": 8,
   "metadata": {},
   "outputs": [
    {
     "name": "stdout",
     "output_type": "stream",
     "text": [
      "Audio content written to file \"output.mp3\"\n"
     ]
    }
   ],
   "source": [
    "# istemci oluşturalım\n",
    "client = texttospeech.TextToSpeechClient()\n",
    "\n",
    "# sese dönüştürülecek yazıyı belirleyelim ve sentezleyiciye gönderelim\n",
    "seslendir = \"bizim biyomedikalci kızlar kod yazmayı bilmiyor\"\n",
    "synthesis_input = texttospeech.types.SynthesisInput(text=seslendir)\n",
    "\n",
    "# seslendirme isteği oluştur, dil kodunu belirle hangi dilde seslendiriliyor (\"tr-TR\") türkçe için\n",
    "# seslendirici default olsun (\"neutral\")\n",
    "# daha farklı seslendiriciler ve ayarlar için burayı ziyaret et incele\n",
    "# https://cloud.google.com/text-to-speech/docs/list-voices\n",
    "voice = texttospeech.types.VoiceSelectionParams(\n",
    "    language_code='tr-TR',\n",
    "    ssml_gender=texttospeech.enums.SsmlVoiceGender.NEUTRAL)\n",
    "\n",
    "# dönüştürüleceği ses türünü belirleyelim MP3 olsun\n",
    "audio_config = texttospeech.types.AudioConfig(\n",
    "    audio_encoding=texttospeech.enums.AudioEncoding.MP3)\n",
    "\n",
    "# seslendirme isteğini oluşturup cevap alalım\n",
    "response = client.synthesize_speech(synthesis_input, voice, audio_config)\n",
    "\n",
    "# gelen cevap binary halde oluyor. mp3 hale çevirelim\n",
    "# output.mp3 oluşturulacak dosya\n",
    "with open('output.mp3', 'wb') as out:\n",
    "    # cevabı dosyaya ses olarak yaz\n",
    "    out.write(response.audio_content)\n",
    "    print('Audio content written to file \"output.mp3\"')\n",
    "\n",
    "# kaydedilen ses dosyası default mp3 playerde oynatılsın\n",
    "os.startfile('output.mp3')"
   ]
  }
 ],
 "metadata": {
  "kernelspec": {
   "display_name": "Python 3",
   "language": "python",
   "name": "python3"
  },
  "language_info": {
   "codemirror_mode": {
    "name": "ipython",
    "version": 3
   },
   "file_extension": ".py",
   "mimetype": "text/x-python",
   "name": "python",
   "nbconvert_exporter": "python",
   "pygments_lexer": "ipython3",
   "version": "3.6.5"
  }
 },
 "nbformat": 4,
 "nbformat_minor": 2
}
