{
 "cells": [
  {
   "cell_type": "markdown",
   "metadata": {},
   "source": [
    "# Google Translation Api ile Metin Çeviri İşlemleri"
   ]
  },
  {
   "cell_type": "markdown",
   "metadata": {},
   "source": [
    "Gerekli Yüklemeler:\n",
    "    \n",
    "pip install --upgrade google-cloud-translate"
   ]
  },
  {
   "cell_type": "code",
   "execution_count": 1,
   "metadata": {},
   "outputs": [],
   "source": [
    "import os\n",
    "os.environ[\"GOOGLE_APPLICATION_CREDENTIALS\"] = \"apikey.json\"\n",
    "\n",
    "from google.cloud import translate"
   ]
  },
  {
   "cell_type": "code",
   "execution_count": 12,
   "metadata": {},
   "outputs": [
    {
     "name": "stdout",
     "output_type": "stream",
     "text": [
      "Text: 70 millions people are watching us, I have witnesses, I flied on air!\n",
      "Translation: 70 milyon insan bizi izliyor, tanıklarım var, havada uçtum!\n"
     ]
    }
   ],
   "source": [
    "# bir istemci oluşturulur\n",
    "translate_client = translate.Client()\n",
    "\n",
    "# çevirisi yapılacak ingilizce yazı\n",
    "text = '70 millions people are watching us, I have witnesses, I flied on air!'\n",
    "# çevirisi yapılacak dil Türkçe için tr\n",
    "target = 'tr'\n",
    "# kaynak dil\n",
    "source = 'en'\n",
    "\n",
    "# çeviri isteği yapılır ve cevap alınır\n",
    "translation = translate_client.translate(text, source_language=source, target_language=target)\n",
    "\n",
    "print(u'Text: {}'.format(text))\n",
    "print(u'Translation: {}'.format(translation['translatedText']))"
   ]
  }
 ],
 "metadata": {
  "kernelspec": {
   "display_name": "Python 3",
   "language": "python",
   "name": "python3"
  },
  "language_info": {
   "codemirror_mode": {
    "name": "ipython",
    "version": 3
   },
   "file_extension": ".py",
   "mimetype": "text/x-python",
   "name": "python",
   "nbconvert_exporter": "python",
   "pygments_lexer": "ipython3",
   "version": "3.6.5"
  }
 },
 "nbformat": 4,
 "nbformat_minor": 2
}
