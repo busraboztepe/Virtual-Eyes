{
 "cells": [
  {
   "cell_type": "markdown",
   "metadata": {},
   "source": [
    "# OpenCV İle Kameradan Resim Çekmek"
   ]
  },
  {
   "cell_type": "markdown",
   "metadata": {},
   "source": [
    "Gerekenler:\n",
    "\n",
    "-OpenCv https://opencv.org/releases.html\n",
    "\n",
    "-Python 2.7.+\n",
    "\n",
    "-Numpy\n",
    "\n",
    "-Matloblib"
   ]
  },
  {
   "cell_type": "markdown",
   "metadata": {},
   "source": [
    "# OpenCV Kurulumu"
   ]
  },
  {
   "cell_type": "markdown",
   "metadata": {},
   "source": [
    "Linux için konsola \"sudo apt install python-opencv\" komutunu girmek yeterli\n",
    "\n",
    "Windows için Son versiyonun \"Win Pack\" kütüphane dosyası indirilir. İndirilen dosya çalıştırılınca içindekilerin çıkarılmasını istediği yeri sorar. Direkt olarak C: dizinine çıkarma işlemi yapılır. Çıkan dosya \"C:\\OpenCV\" isminde olmalıdır ve içerisinde \"C:\\OpenCV\\build\" ve \"C:\\OpenCV\\resources\" şeklinde klasörler bulunur (dizin hiyerarşisine dikkat edilmelidir).\n",
    "\n",
    "\"C:\\OpenCV\\build\\x64\\vc14\\bin\" adresini kopyalıyoruz. Bunu ortam değişkenlerine eklemek gerekecek (vc14 versiyon ile alakalıdır, eğer daha altı, yada vc15 ve üstü kullanılıyorsa ona göre ilgili klasör seçilmeli).\n",
    "\n",
    "\"Bilgisayarım > Özellikler > Gelişmiş Sistem Ayarları > Gelişmiş\" penceresine geliyoruz ve \"Ortam Değişkenleri\" butonuna basıyoruz. \"Sistem Değişkenleri\" bölümünde \"path\" değişkenini seçip \"düzenle\" butonuna basıyoruz. Açılan pencerede \"yeni\" butonuna basıp kopyalamış olduğumuz pathı buraya yapıştırıyoruz ve \"tamam\" butonu ile onaylıyoruz (Windows sürümü farklı ise gidişat farklılık gösterebilir ancak yolu budur).\n",
    "\n",
    "Eğer bu yöntem çalışmazsa OpenCV kodlarının bulunduğu dosyanın hemen yanına \"C:\\OpenCV\\build\\python\" adresinde bulunan \"cv2\" isimli klasör kopyalanarak yapıştırılır ve OpenCV çalışır."
   ]
  },
  {
   "cell_type": "markdown",
   "metadata": {},
   "source": [
    "# Kameradan Görüntü Almak"
   ]
  },
  {
   "cell_type": "code",
   "execution_count": 7,
   "metadata": {},
   "outputs": [
    {
     "data": {
      "image/png": "[encoded data removed]",
      "text/plain": [
       "<Figure size 432x288 with 1 Axes>"
      ]
     },
     "metadata": {},
     "output_type": "display_data"
    }
   ],
   "source": [
    "import cv2 as cv\n",
    "from matplotlib import pyplot as plt\n",
    "\n",
    "# Kameradan video yakalama ve kareler üzerinde işlemler yapabilmek için kamera nesnesi oluşturuyoruz\n",
    "cap = cv.VideoCapture(0) # iki kamera varsa ana 0 ve 1 olarak indexlenirler. bir kamera var diye 0 yazdık.\n",
    "\n",
    "ret, frame = cap.read() # kamera görüntüsünü alıyoruz\n",
    "# photo = cv.cvtColor(frame, cv.COLOR_BGR2GRAY)  # bu gri renkte gösterir\n",
    "b,g,r = cv.split(frame)\n",
    "photo = cv.merge([r,g,b]) # bir nevi renklendirme yapıyoruz\n",
    "\n",
    "# herşey bitince kamerayı kapatıyoruz.\n",
    "cap.release()\n",
    "\n",
    "# resmi ekranda bir gösterelim acaba çekmişmiyiz diye\n",
    "plt.subplot(121), plt.imshow(photo)\n",
    "plt.show()"
   ]
  }
 ],
 "metadata": {
  "kernelspec": {
   "display_name": "Python 3",
   "language": "python",
   "name": "python3"
  },
  "language_info": {
   "codemirror_mode": {
    "name": "ipython",
    "version": 3
   },
   "file_extension": ".py",
   "mimetype": "text/x-python",
   "name": "python",
   "nbconvert_exporter": "python",
   "pygments_lexer": "ipython3",
   "version": "3.6.5"
  }
 },
 "nbformat": 4,
 "nbformat_minor": 2
}
